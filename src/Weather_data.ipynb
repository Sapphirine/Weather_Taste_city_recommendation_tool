{
 "cells": [
  {
   "cell_type": "code",
   "execution_count": null,
   "metadata": {
    "collapsed": true
   },
   "outputs": [],
   "source": [
    "# This code is to download historical daily weather data from\n",
    "# weatherunderground.com\n",
    "# This code will require station_list.csv\n",
    "# Please setup paths to run the code succesfully\n",
    "\n",
    "# AUTHOR: Haowei Wu"
   ]
  },
  {
   "cell_type": "code",
   "execution_count": 1,
   "metadata": {
    "collapsed": false
   },
   "outputs": [],
   "source": [
    "# code is modified from http://learn.devfe.st/datascience/\n",
    "\n",
    "\n",
    "days_per_month = {1: 31, 2: 28, 3: 31, 4: 30,\n",
    "                  5: 31, 6: 30, 7: 31, 8: 31,\n",
    "                  9: 30, 10: 31, 11: 30, 12: 31}\n",
    "\n",
    "link_format = \"http://www.wunderground.com/history/airport/{}/{}/{}/{}/DailyHistory.html\"\n",
    "\n",
    "import os\n",
    "import csv\n",
    "import requests\n",
    "import os.path\n",
    "import pandas as pd\n",
    "from bs4 import BeautifulSoup\n",
    "\n",
    "def download_file(link, name):\n",
    "    if os.path.isfile(name):\n",
    "        return\n",
    "    file = open(name, 'w')\n",
    "    r = requests.get(link)\n",
    "    file.write(r.text)\n",
    "    file.close()\n",
    "\n",
    "fields = ['Mean Temperature', 'Max Temperature', 'Min Temperature',\\\n",
    "          'Dew Point', 'Average Humidity', 'Maximum Humidity',\\\n",
    "          'Minimum Humidity', 'Precipitation', 'Wind Speed',\\\n",
    "          'Max Wind Speed', 'Max Gust Speed']\n",
    "\n",
    "def test_station(name):\n",
    "    with open(name) as fin:\n",
    "        soup = BeautifulSoup(fin.read(), \"html.parser\")\n",
    "    test = soup.find(id=\"historyTable\").find_all(\"tr\")\n",
    "    return isnull(test)\n",
    "\n",
    "def scrape_file(name):\n",
    "    with open(name) as fin:\n",
    "        soup = BeautifulSoup(fin.read(), \"html.parser\")\n",
    "    data = {}\n",
    "    for row in soup.find(id=\"historyTable\").find_all(\"tr\"):\n",
    "        cells = row.find_all(\"td\")\n",
    "        if len(cells) == 4:\n",
    "            name = cells[0].text.strip()\n",
    "            if name in fields:\n",
    "                if len(cells[1].text.split()) == 0:\n",
    "                    data[name] = \"-\"\n",
    "                else:\n",
    "                    data[name] = cells[1].text.split()[0].strip()   # Split to remove units\n",
    "    return data\n",
    "\n",
    "def test_station(name):\n",
    "    with open(name) as fin:\n",
    "        soup = BeautifulSoup(fin.read(), \"html.parser\")\n",
    "    test = soup.find(id=\"historyTable\")\n",
    "    return test != None\n",
    "\n",
    "\n",
    "def scandirs(path):\n",
    "    for root, dirs, files in os.walk(path):\n",
    "        for currentFile in files:\n",
    "            #print (\"processing file: \" + currentFile)\n",
    "            exts = ('.html')\n",
    "            if any(currentFile.lower().endswith(ext) for ext in exts):\n",
    "                os.remove(os.path.join(root, currentFile))\n",
    "                \n"
   ]
  },
  {
   "cell_type": "code",
   "execution_count": 6,
   "metadata": {
    "collapsed": false
   },
   "outputs": [
    {
     "name": "stdout",
     "output_type": "stream",
     "text": [
      "finish  89.32584269662921 %\n",
      "finish  89.38826466916355 %\n",
      "finish  89.45068664169787 %\n",
      "finish  89.51310861423221 %\n",
      "finish  89.57553058676653 %\n",
      "finish  89.63795255930087 %\n",
      "finish  89.70037453183521 %\n",
      "finish  89.76279650436953 %\n",
      "finish  89.82521847690387 %\n",
      "finish  89.8876404494382 %\n",
      "finish  89.95006242197253 %\n",
      "finish  90.01248439450687 %\n",
      "finish  90.0749063670412 %\n",
      "finish  90.13732833957553 %\n",
      "finish  90.19975031210986 %\n",
      "finish  90.2621722846442 %\n",
      "finish  90.32459425717853 %\n",
      "finish  90.38701622971286 %\n",
      "finish  90.4494382022472 %\n"
     ]
    }
   ],
   "source": [
    "stations = pd.read_csv(\"/Users/Haowei_Wu/Big_data_analytics_project/station_list.csv\")\n",
    "\n",
    "# select the stations, years you want to download\n",
    "for station in range(1431,1450):\n",
    "    city = stations.at[station,'Station']\n",
    "    state = stations.at[station,'State']\n",
    "    code = stations.at[station,'airportCode']\n",
    "    links = [link_format.format(code, year, month, day)\n",
    "             for year in range(2006, 2016) # 2013 - 2015 inclusive\n",
    "             for month in range(1, 13)     # 1 - 12 inclusive\n",
    "             for day in range(1, days_per_month[month] + 1)]\n",
    "    for i, link in enumerate(links):\n",
    "        #if i % 50 == 0:\n",
    "            #print(\"Done with %d..\" % i)\n",
    "        download_file(link, \"%d.html\" % i)\n",
    "        \n",
    "    csv_fields = [\"Month\", \"Day\", \"Year\"] + fields\n",
    "    with open(code+\"_\"+city+\"_\"+state+\"_weather_data.csv\", \"w\") as fout:\n",
    "        writer = csv.DictWriter(fout, csv_fields)\n",
    "        writer.writeheader()\n",
    "\n",
    "        for i, link in enumerate(links):\n",
    "            test = test_station(\"{}.html\".format(i))\n",
    "            if test:\n",
    "                data = scrape_file(\"{}.html\".format(i))\n",
    "                url_parts = link.split(\"/\")\n",
    "                data[\"Month\"] = int(url_parts[-3])\n",
    "                data[\"Year\"] = int(url_parts[-4])\n",
    "                data[\"Day\"] = int(url_parts[-2])\n",
    "                writer.writerow(data)\n",
    "    scandirs(\"/Users/Haowei_Wu/Big_data_analytics_project/bda_proj_1400_1450\")\n",
    "    print ('finish ',station/stations.shape[0]*100, \"%\")\n",
    "    "
   ]
  }
 ],
 "metadata": {
  "anaconda-cloud": {},
  "kernelspec": {
   "display_name": "Python [conda root]",
   "language": "python",
   "name": "conda-root-py"
  },
  "language_info": {
   "codemirror_mode": {
    "name": "ipython",
    "version": 3
   },
   "file_extension": ".py",
   "mimetype": "text/x-python",
   "name": "python",
   "nbconvert_exporter": "python",
   "pygments_lexer": "ipython3",
   "version": "3.5.2"
  }
 },
 "nbformat": 4,
 "nbformat_minor": 0
}
